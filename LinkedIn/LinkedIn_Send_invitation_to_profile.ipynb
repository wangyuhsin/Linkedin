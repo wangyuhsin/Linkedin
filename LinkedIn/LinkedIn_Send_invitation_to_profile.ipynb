{
 "cells": [
  {
   "cell_type": "markdown",
   "id": "second-registrar",
   "metadata": {
    "execution": {
     "iopub.execute_input": "2021-01-25T08:00:35.294800Z",
     "iopub.status.busy": "2021-01-25T08:00:35.294557Z",
     "iopub.status.idle": "2021-01-25T08:00:35.307281Z",
     "shell.execute_reply": "2021-01-25T08:00:35.306468Z",
     "shell.execute_reply.started": "2021-01-25T08:00:35.294775Z"
    },
    "papermill": {},
    "tags": []
   },
   "source": [
    "<img width=\"8%\" alt=\"LinkedIn.png\" src=\"https://raw.githubusercontent.com/jupyter-naas/awesome-notebooks/master/.github/assets/logos/LinkedIn.png\" style=\"border-radius: 15%\">"
   ]
  },
  {
   "cell_type": "markdown",
   "id": "boolean-amendment",
   "metadata": {
    "papermill": {},
    "tags": []
   },
   "source": [
    "# LinkedIn - Send invitation to profile\n",
    "<a href=\"https://app.naas.ai/user-redirect/naas/downloader?url=https://raw.githubusercontent.com/jupyter-naas/awesome-notebooks/master/LinkedIn/LinkedIn_Send_invitation_to_profile.ipynb\" target=\"_parent\"><img src=\"https://naasai-public.s3.eu-west-3.amazonaws.com/Open_in_Naas_Lab.svg\"/></a><br><br><a href=\"https://bit.ly/3JyWIk6\">Give Feedback</a> | <a href=\"https://github.com/jupyter-naas/awesome-notebooks/issues/new?assignees=&labels=bug&template=bug_report.md&title=LinkedIn+-+Send+invitation+to+profile:+Error+short+description\">Bug report</a>"
   ]
  },
  {
   "cell_type": "markdown",
   "id": "8e32973f-9a81-4c9c-b526-8eb05453acee",
   "metadata": {
    "papermill": {},
    "tags": []
   },
   "source": [
    "**Tags:** #linkedin #invitation #naas_drivers #content #snippet #text"
   ]
  },
  {
   "cell_type": "markdown",
   "id": "7e904365-6248-439c-9c2f-dee77a015ccc",
   "metadata": {
    "papermill": {},
    "tags": []
   },
   "source": [
    "**Author:** [Florent Ravenel](https://www.linkedin.com/in/florent-ravenel/)"
   ]
  },
  {
   "cell_type": "markdown",
   "id": "4c82f5da-50a4-4216-a069-c24633434cfc",
   "metadata": {
    "papermill": {},
    "tags": []
   },
   "source": [
    "**Last update:** 2023-05-29 (Created: 2021-06-18)"
   ]
  },
  {
   "cell_type": "markdown",
   "id": "naas-description",
   "metadata": {
    "papermill": {},
    "tags": [
     "description"
    ]
   },
   "source": [
    "**Description:** This notebook allows users to send invitations to connect on LinkedIn to other profiles."
   ]
  },
  {
   "cell_type": "markdown",
   "id": "13a0ab57-ab0f-4819-9643-d69c9262f532",
   "metadata": {},
   "source": [
    "**Source code:** https://github.com/jupyter-naas/drivers/blob/main/naas_drivers/tools/linkedin.py"
   ]
  },
  {
   "cell_type": "markdown",
   "id": "de101d04-29f5-4cd5-87e4-be4bd4278811",
   "metadata": {
    "papermill": {},
    "tags": []
   },
   "source": [
    "\n",
    "<div class=\"alert alert-info\" role=\"info\" style=\"margin: 10px\">\n",
    "<b>Disclaimer:</b><br>\n",
    "This code is in no way affiliated with, authorized, maintained, sponsored or endorsed by Linkedin or any of its affiliates or subsidiaries. It uses an independent and unofficial API. Use at your own risk.\n",
    "\n",
    "This project violates [Linkedin's User Agreement Section 8.2](https://www.linkedin.com/legal/user-agreement), and because of this, Linkedin may (and will) temporarily or permanently ban your account. We are not responsible for your account being banned.\n",
    "<br>\n",
    "</div>"
   ]
  },
  {
   "cell_type": "markdown",
   "id": "88f0dc55-c0a7-4d9a-8ce0-2c6c9e3c28a9",
   "metadata": {
    "execution": {
     "iopub.execute_input": "2023-11-27T08:03:48.659257Z",
     "iopub.status.busy": "2023-11-27T08:03:48.659026Z",
     "iopub.status.idle": "2023-11-27T08:03:48.663914Z",
     "shell.execute_reply": "2023-11-27T08:03:48.663344Z",
     "shell.execute_reply.started": "2023-11-27T08:03:48.659232Z"
    }
   },
   "source": [
    "### LinkedIn Automation Limitations\n",
    "\n",
    "You can use LinkedIn automation tools as long as you respect the limitations set by LinkedIn:\n",
    "\n",
    "- **Search Result Extractions:** Max 100 pages/1000 results per day \n",
    "- **Auto-Connecting Action:** 20 invites per working day; 100 invitations per week\n",
    "\n",
    "For more details, please refer to [LinkedIn automation rate limits and best practices](https://phantombuster.com/blog/guides/linkedin-automation-rate-limits-2021-edition-5pFlkXZFjtku79DltwBF0M)."
   ]
  },
  {
   "cell_type": "markdown",
   "id": "93c6e0eb-1b04-4ff3-aae3-2db014695e39",
   "metadata": {},
   "source": [
    "### Set up Environment and Variables\n",
    "\n",
    "Before running this notebook, please make sure to:\n",
    "\n",
    "1. Review and verify all variables in `constants.py`.\n",
    "2. Execute `linkedin_search_scraper.py` on your local machine to generate the `profile_lists.csv` file.\n",
    "3. Copy both `constants.py` and `profile_lists.csv` to Naas cloud."
   ]
  },
  {
   "cell_type": "code",
   "execution_count": 1,
   "id": "03db6544-0a5e-40f7-8086-2cc50670d28e",
   "metadata": {
    "execution": {
     "iopub.execute_input": "2023-11-30T03:08:57.936572Z",
     "iopub.status.busy": "2023-11-30T03:08:57.936259Z",
     "iopub.status.idle": "2023-11-30T03:08:59.928155Z",
     "shell.execute_reply": "2023-11-30T03:08:59.927029Z",
     "shell.execute_reply.started": "2023-11-30T03:08:57.936480Z"
    },
    "tags": []
   },
   "outputs": [],
   "source": [
    "# Import the necessary libraries and modules\n",
    "from IPython.display import HTML\n",
    "import warnings\n",
    "warnings.filterwarnings('ignore')\n",
    "\n",
    "# Execute linkedin_invitation.py\n",
    "%run linkedin_invitation\n",
    "\n",
    "# Adjust Pandas display settings\n",
    "pd.set_option('display.max_colwidth', None)\n",
    "\n",
    "# Specify the CSV file for profile lists\n",
    "file_name = 'profile_lists.csv'"
   ]
  },
  {
   "cell_type": "markdown",
   "id": "d13a1000-c704-4252-9e9b-0a9206f9845d",
   "metadata": {},
   "source": [
    "### Select Profiles with More Than 5 YOE and Graduated from TARGET_SCHOOL\n",
    "\n",
    "Filter the profiles from `profile_lists.csv` that match the following criteria:\n",
    "\n",
    "1. More than 5 years of experience\n",
    "2. Graduated from one of the [top 50 engineering schools](https://www.usnews.com/best-graduate-schools/top-engineering-schools/eng-rankings) in the US\n",
    "\n",
    "Running the following cell will return all the qualified profiles for your review."
   ]
  },
  {
   "cell_type": "code",
   "execution_count": 2,
   "id": "0d9af6e2-3346-44db-afde-2e83bcb52f41",
   "metadata": {
    "execution": {
     "iopub.execute_input": "2023-11-30T03:08:59.944093Z",
     "iopub.status.busy": "2023-11-30T03:08:59.940726Z",
     "iopub.status.idle": "2023-11-30T03:13:31.348215Z",
     "shell.execute_reply": "2023-11-30T03:13:31.347483Z",
     "shell.execute_reply.started": "2023-11-30T03:08:59.944058Z"
    },
    "tags": []
   },
   "outputs": [
    {
     "name": "stdout",
     "output_type": "stream",
     "text": [
      "📋 There are 15 qualified profiles.\n"
     ]
    },
    {
     "data": {
      "text/html": [
       "<table border=\"1\" class=\"dataframe\">\n",
       "  <thead>\n",
       "    <tr style=\"text-align: right;\">\n",
       "      <th></th>\n",
       "      <th>PROFILE_URL</th>\n",
       "      <th>FIRSTNAME</th>\n",
       "      <th>LASTNAME</th>\n",
       "      <th>SUMMARY</th>\n",
       "      <th>OCCUPATION</th>\n",
       "      <th>REGION</th>\n",
       "      <th>COUNTRY</th>\n",
       "    </tr>\n",
       "  </thead>\n",
       "  <tbody>\n",
       "    <tr>\n",
       "      <th>0</th>\n",
       "      <td><a href=\"https://www.linkedin.com/in/harshdeep-sandhu/\" target=\"_blank\">https://www.linkedin.com/in/harshdeep-sandhu/</a></td>\n",
       "      <td>Harshdeep</td>\n",
       "      <td>Sandhu</td>\n",
       "      <td>None</td>\n",
       "      <td>Software Engineer II, ML at Uber</td>\n",
       "      <td>San Francisco, California</td>\n",
       "      <td>United States</td>\n",
       "    </tr>\n",
       "    <tr>\n",
       "      <th>1</th>\n",
       "      <td><a href=\"https://www.linkedin.com/in/kailingwang/\" target=\"_blank\">https://www.linkedin.com/in/kailingwang/</a></td>\n",
       "      <td>Kailing</td>\n",
       "      <td>Wang</td>\n",
       "      <td>Interested and experienced in large-scale search, recommendation and ranking problems. A full stack ML practitioner, including ML system design, data pipelines, model training, deployment, online serving and experiment etc.. Passionate about research and implementation of deep learning algorithms to improve relevancy, quality and diversity of recommendations.</td>\n",
       "      <td>Machine Learning Engineer & Researcher</td>\n",
       "      <td>San Francisco Bay Area</td>\n",
       "      <td>United States</td>\n",
       "    </tr>\n",
       "    <tr>\n",
       "      <th>2</th>\n",
       "      <td><a href=\"https://www.linkedin.com/in/nadha-gafoor/\" target=\"_blank\">https://www.linkedin.com/in/nadha-gafoor/</a></td>\n",
       "      <td>Nadha</td>\n",
       "      <td>Gafoor</td>\n",
       "      <td>I am a Software Engineer / Research Scientist with a strong track record of developing practical computer vision and machine learning based solutions.  I enjoy building ground-up ML models for ambiguous problems in varied domains.</td>\n",
       "      <td>Machine Learning Engineer @ Stripe</td>\n",
       "      <td>San Francisco Bay Area</td>\n",
       "      <td>United States</td>\n",
       "    </tr>\n",
       "    <tr>\n",
       "      <th>3</th>\n",
       "      <td><a href=\"https://www.linkedin.com/in/fanzhang96/\" target=\"_blank\">https://www.linkedin.com/in/fanzhang96/</a></td>\n",
       "      <td>Fan</td>\n",
       "      <td>Zhang</td>\n",
       "      <td>Software Engineer @ Robinhood, Ex-Oracle, EECS @ UC Berkeley</td>\n",
       "      <td>Software Engineer at Robinhood</td>\n",
       "      <td>Belmont, California</td>\n",
       "      <td>United States</td>\n",
       "    </tr>\n",
       "    <tr>\n",
       "      <th>4</th>\n",
       "      <td><a href=\"https://www.linkedin.com/in/ncthach/\" target=\"_blank\">https://www.linkedin.com/in/ncthach/</a></td>\n",
       "      <td>Thach</td>\n",
       "      <td>Nguyen</td>\n",
       "      <td>None</td>\n",
       "      <td>ML engineer</td>\n",
       "      <td>San Francisco Bay Area</td>\n",
       "      <td>United States</td>\n",
       "    </tr>\n",
       "    <tr>\n",
       "      <th>5</th>\n",
       "      <td><a href=\"https://www.linkedin.com/in/robynlam/\" target=\"_blank\">https://www.linkedin.com/in/robynlam/</a></td>\n",
       "      <td>Robyn</td>\n",
       "      <td>Lam</td>\n",
       "      <td>None</td>\n",
       "      <td>Software Engineer at Asana</td>\n",
       "      <td>San Jose, California</td>\n",
       "      <td>United States</td>\n",
       "    </tr>\n",
       "    <tr>\n",
       "      <th>6</th>\n",
       "      <td><a href=\"https://www.linkedin.com/in/christopher-settles/\" target=\"_blank\">https://www.linkedin.com/in/christopher-settles/</a></td>\n",
       "      <td>Christopher</td>\n",
       "      <td>Settles</td>\n",
       "      <td>The chief beauty about the constant supply of time is that you cannot waste it in advance. The next year, the next day, the next hour are lying ready for you, as perfect, as unspoilt, as if you had never wasted or misapplied a single moment in all your career. Which fact is very gratifying and reassuring. You can turn over a new leaf every hour if you choose. Therefore no object is served in waiting till next week, or even until to-morrow. You may fancy that the water will be warmer next week. It won’t. It will be colder.\\n\\n~ Arnold Bennet</td>\n",
       "      <td>Machine Learning Engineer at Uber</td>\n",
       "      <td>San Francisco, California</td>\n",
       "      <td>United States</td>\n",
       "    </tr>\n",
       "    <tr>\n",
       "      <th>7</th>\n",
       "      <td><a href=\"https://www.linkedin.com/in/philip-weiss-391021b1/\" target=\"_blank\">https://www.linkedin.com/in/philip-weiss-391021b1/</a></td>\n",
       "      <td>Philip</td>\n",
       "      <td>Weiss</td>\n",
       "      <td>None</td>\n",
       "      <td>Senior Software Engineer at Airbnb</td>\n",
       "      <td>Palo Alto, California</td>\n",
       "      <td>United States</td>\n",
       "    </tr>\n",
       "    <tr>\n",
       "      <th>8</th>\n",
       "      <td><a href=\"https://www.linkedin.com/in/amandhar/\" target=\"_blank\">https://www.linkedin.com/in/amandhar/</a></td>\n",
       "      <td>Aman</td>\n",
       "      <td>Dhar</td>\n",
       "      <td>Interested in deep learning, data science, and software.</td>\n",
       "      <td>Software Engineer</td>\n",
       "      <td>San Francisco, California</td>\n",
       "      <td>United States</td>\n",
       "    </tr>\n",
       "    <tr>\n",
       "      <th>9</th>\n",
       "      <td><a href=\"https://www.linkedin.com/in/huanch/\" target=\"_blank\">https://www.linkedin.com/in/huanch/</a></td>\n",
       "      <td>Huan</td>\n",
       "      <td>Chen</td>\n",
       "      <td>For referral, please check https://careers.airbnb.com first to see if you have a matching role, then send me the role link & resume. I checked on 9/2022 and 10/2021, most engineering positions are senior roles (require >4~5YOE). New grad positions: n/a, will update when available.\\n\\nNOTE that $0 referral bonus for levels under senior staff (L7), but still happy to refer!\\n\\n- 9/26/2022 update: 2023 summer SDE intern is open: https://careers.airbnb.com/positions/4509474, closed on Friday in the week.\\n- 10/15/2021 update: SDE intern link is closed.\\n- 10/14/2021 update: 2022 summer SDE intern position is out: https://careers.airbnb.com/positions/3515684.</td>\n",
       "      <td>Software Engineer at Airbnb</td>\n",
       "      <td>San Jose, California</td>\n",
       "      <td>United States</td>\n",
       "    </tr>\n",
       "    <tr>\n",
       "      <th>10</th>\n",
       "      <td><a href=\"https://www.linkedin.com/in/mikeyangz/\" target=\"_blank\">https://www.linkedin.com/in/mikeyangz/</a></td>\n",
       "      <td>Mike</td>\n",
       "      <td>Yang</td>\n",
       "      <td>None</td>\n",
       "      <td>Software Engineer at Uber</td>\n",
       "      <td>San Francisco Bay Area</td>\n",
       "      <td>United States</td>\n",
       "    </tr>\n",
       "    <tr>\n",
       "      <th>11</th>\n",
       "      <td><a href=\"https://www.linkedin.com/in/itsarbit/\" target=\"_blank\">https://www.linkedin.com/in/itsarbit/</a></td>\n",
       "      <td>Chun-Yen</td>\n",
       "      <td>C.</td>\n",
       "      <td>A leader of a worldwide award-winning ML project team and a software engineer with years of hands-on experience in company Airbnb and HTC Corporation. I am specializing in backend/infrastructure, machine learning platform, and DevOps, with a solid background in communication engineering.</td>\n",
       "      <td>Software Engineer & Co-founder</td>\n",
       "      <td>San Francisco Bay Area</td>\n",
       "      <td>United States</td>\n",
       "    </tr>\n",
       "    <tr>\n",
       "      <th>12</th>\n",
       "      <td><a href=\"https://www.linkedin.com/in/marckelechava/\" target=\"_blank\">https://www.linkedin.com/in/marckelechava/</a></td>\n",
       "      <td>Marc</td>\n",
       "      <td>Kelechava</td>\n",
       "      <td>Currently: Senior Analytics Engineer on the Discovery team at Faire.\\n\\nDeep experience in Analytics, ETL Pipelines, XP experimentation, Sagemaker training, ranking model infra</td>\n",
       "      <td>ML at Faire</td>\n",
       "      <td>San Francisco Bay Area</td>\n",
       "      <td>United States</td>\n",
       "    </tr>\n",
       "    <tr>\n",
       "      <th>13</th>\n",
       "      <td><a href=\"https://www.linkedin.com/in/ankurjain13/\" target=\"_blank\">https://www.linkedin.com/in/ankurjain13/</a></td>\n",
       "      <td>Ankur</td>\n",
       "      <td>Jain</td>\n",
       "      <td>Experienced Full Stack Engineer with a demonstrated history of working in Enterprise technology and services industry. Skilled in Java, Javascript, SQL, HBase and MapReduce. Strong engineering professional with a Master's Degree in Information technology from Carnegie Mellon University.</td>\n",
       "      <td>Engineer @Stripe</td>\n",
       "      <td>San Mateo, California</td>\n",
       "      <td>United States</td>\n",
       "    </tr>\n",
       "    <tr>\n",
       "      <th>14</th>\n",
       "      <td><a href=\"https://www.linkedin.com/in/beckyhui/\" target=\"_blank\">https://www.linkedin.com/in/beckyhui/</a></td>\n",
       "      <td>Becky</td>\n",
       "      <td>Hui</td>\n",
       "      <td>Hi, I'm Becky and thanks for visiting my page! \\n\\nI started with a background in data analysis and growth marketing. Later, I pivoted to Risk and am now combatting fraud through real-time ML solutions.\\n\\nMy experience and education allowed me to develop a strong interest in data science and machine learning. I still have lots to learn and I would love for a chance to pick your brain! \\n\\nSkillset: SQL, Python, Airflow, Git, Tableau</td>\n",
       "      <td>Machine Learning Engineer at Uber</td>\n",
       "      <td>San Francisco, California</td>\n",
       "      <td>United States</td>\n",
       "    </tr>\n",
       "  </tbody>\n",
       "</table>"
      ],
      "text/plain": [
       "<IPython.core.display.HTML object>"
      ]
     },
     "execution_count": 2,
     "metadata": {},
     "output_type": "execute_result"
    }
   ],
   "source": [
    "recipient_profiles = filter_profiles(file_name)\n",
    "recipients = recipient_profiles[0]\n",
    "HTML(recipient_profiles[1].to_html(render_links=True, escape=False))"
   ]
  },
  {
   "cell_type": "markdown",
   "id": "c7b5baaf-0ef1-4095-a098-6cadaab3de33",
   "metadata": {},
   "source": [
    "### Remove Profiles from Recipients\n",
    "\n",
    "Uncomment and run the following cell if you want to remove any profile from the recipient list."
   ]
  },
  {
   "cell_type": "code",
   "execution_count": 3,
   "id": "bc521c1f-4ebc-4f23-8318-014b2eedf84c",
   "metadata": {
    "execution": {
     "iopub.execute_input": "2023-11-30T03:13:31.353198Z",
     "iopub.status.busy": "2023-11-30T03:13:31.350787Z",
     "iopub.status.idle": "2023-11-30T03:13:31.357932Z",
     "shell.execute_reply": "2023-11-30T03:13:31.357208Z",
     "shell.execute_reply.started": "2023-11-30T03:13:31.353160Z"
    }
   },
   "outputs": [],
   "source": [
    "# # Add the profile links you want to remove here\n",
    "# remove_recipients = {\n",
    "#     'https://www.linkedin.com/in/christopher-settles/',\n",
    "#     'https://www.linkedin.com/in/mikeyangz/',\n",
    "# }\n",
    "\n",
    "# recipients -= remove_recipients"
   ]
  },
  {
   "cell_type": "markdown",
   "id": "e7292989-75fd-43c2-8044-45f6d340eed0",
   "metadata": {},
   "source": [
    "### Add Profiles to Recipients\n",
    "\n",
    "Uncomment and run the following cell if you want to add any profile to the recipient list."
   ]
  },
  {
   "cell_type": "code",
   "execution_count": 4,
   "id": "22b98003-83dc-49df-8858-4b5de97c591f",
   "metadata": {
    "execution": {
     "iopub.execute_input": "2023-11-30T03:13:31.359235Z",
     "iopub.status.busy": "2023-11-30T03:13:31.358882Z",
     "iopub.status.idle": "2023-11-30T03:13:31.465157Z",
     "shell.execute_reply": "2023-11-30T03:13:31.464511Z",
     "shell.execute_reply.started": "2023-11-30T03:13:31.359203Z"
    },
    "tags": []
   },
   "outputs": [],
   "source": [
    "# # Add the profile links you want to add here\n",
    "# add_recipients = {\n",
    "#     'https://www.linkedin.com/in/yuhsin-wang/',\n",
    "#     'https://www.linkedin.com/in/mikeyangz/',\n",
    "# }\n",
    "\n",
    "# recipients |= add_recipients"
   ]
  },
  {
   "cell_type": "markdown",
   "id": "29a9c1c7-181b-49c6-ae00-c15ca95e89ee",
   "metadata": {},
   "source": [
    "### Send Invitations\n",
    "\n",
    "Running the following cell will send invitations to the recipients along with a message.\n",
    "\n",
    "After successfully sending each invite, it will wait for one minute before sending the next one.\n",
    "\n",
    "<div class=\"alert alert-block alert-warning\">\n",
    "📌 Please note that you can send up to <b>20 invitations</b> per working day.\n",
    "</div>"
   ]
  },
  {
   "cell_type": "code",
   "execution_count": 5,
   "id": "613f0e75-4e70-4292-a5ec-6812068f7f47",
   "metadata": {
    "execution": {
     "iopub.execute_input": "2023-11-30T03:13:31.466473Z",
     "iopub.status.busy": "2023-11-30T03:13:31.466105Z",
     "iopub.status.idle": "2023-11-30T03:16:06.497877Z",
     "shell.execute_reply": "2023-11-30T03:16:06.497134Z",
     "shell.execute_reply.started": "2023-11-30T03:13:31.466441Z"
    },
    "tags": []
   },
   "outputs": [
    {
     "name": "stdout",
     "output_type": "stream",
     "text": [
      "📮 Invitation successfully sent to Qin (https://www.linkedin.com/in/qin-jiang-usc/)\n",
      "📮 Invitation successfully sent to Sarah (https://www.linkedin.com/in/sarahwu0320/)\n",
      "📮 Invitation successfully sent to Jingxuan（Brigitte） (https://www.linkedin.com/in/jingxuan-wen/)\n"
     ]
    }
   ],
   "source": [
    "# You don't need to include a greeting here\n",
    "message = \"I'm currently working in the field of data science and would love to add you to my network \"\\\n",
    "          \"since we are from the same area. Thanks!\"\n",
    "\n",
    "send_invitation(recipients, message)"
   ]
  },
  {
   "cell_type": "markdown",
   "id": "9afcaad5-5daa-41bf-8489-d046a6e323e8",
   "metadata": {},
   "source": [
    "### Retrieve LinkedIn connections made today\n",
    "\n",
    "See who accepted your invitation today."
   ]
  },
  {
   "cell_type": "code",
   "execution_count": 6,
   "id": "3b8c0a4e-88ec-465d-a1a3-d4af7d97aa24",
   "metadata": {
    "execution": {
     "iopub.execute_input": "2023-11-30T03:16:06.500118Z",
     "iopub.status.busy": "2023-11-30T03:16:06.499907Z",
     "iopub.status.idle": "2023-11-30T03:16:07.985244Z",
     "shell.execute_reply": "2023-11-30T03:16:07.984675Z",
     "shell.execute_reply.started": "2023-11-30T03:16:06.500089Z"
    },
    "tags": []
   },
   "outputs": [
    {
     "name": "stdout",
     "output_type": "stream",
     "text": [
      "✅ New connections today: 0\n"
     ]
    },
    {
     "data": {
      "text/html": [
       "<div>\n",
       "<style scoped>\n",
       "    .dataframe tbody tr th:only-of-type {\n",
       "        vertical-align: middle;\n",
       "    }\n",
       "\n",
       "    .dataframe tbody tr th {\n",
       "        vertical-align: top;\n",
       "    }\n",
       "\n",
       "    .dataframe thead th {\n",
       "        text-align: right;\n",
       "    }\n",
       "</style>\n",
       "<table border=\"1\" class=\"dataframe\">\n",
       "  <thead>\n",
       "    <tr style=\"text-align: right;\">\n",
       "      <th></th>\n",
       "      <th>FIRSTNAME</th>\n",
       "      <th>LASTNAME</th>\n",
       "      <th>OCCUPATION</th>\n",
       "      <th>CREATED_AT</th>\n",
       "      <th>PROFILE_URL</th>\n",
       "      <th>DATE_EXTRACT</th>\n",
       "    </tr>\n",
       "  </thead>\n",
       "  <tbody>\n",
       "  </tbody>\n",
       "</table>\n",
       "</div>"
      ],
      "text/plain": [
       "Empty DataFrame\n",
       "Columns: [FIRSTNAME, LASTNAME, OCCUPATION, CREATED_AT, PROFILE_URL, DATE_EXTRACT]\n",
       "Index: []"
      ]
     },
     "execution_count": 6,
     "metadata": {},
     "output_type": "execute_result"
    }
   ],
   "source": [
    "new_connections_today()"
   ]
  },
  {
   "cell_type": "code",
   "execution_count": null,
   "id": "f590cc0c-f11b-40e7-aea3-565b2574b542",
   "metadata": {},
   "outputs": [],
   "source": []
  }
 ],
 "metadata": {
  "kernelspec": {
   "display_name": "Python 3",
   "language": "python",
   "name": "python3"
  },
  "language_info": {
   "codemirror_mode": {
    "name": "ipython",
    "version": 3
   },
   "file_extension": ".py",
   "mimetype": "text/x-python",
   "name": "python",
   "nbconvert_exporter": "python",
   "pygments_lexer": "ipython3",
   "version": "3.9.6"
  },
  "naas": {
   "notebook_id": "37c5863ae1a3514167b091d00832094a7c8a267ed37a464de412872cb19c50a6",
   "notebook_path": "LinkedIn/LinkedIn_Send_invitation_to_profile.ipynb"
  },
  "papermill": {
   "default_parameters": {},
   "environment_variables": {},
   "parameters": {},
   "version": "2.3.3"
  },
  "widgets": {
   "application/vnd.jupyter.widget-state+json": {
    "state": {},
    "version_major": 2,
    "version_minor": 0
   }
  }
 },
 "nbformat": 4,
 "nbformat_minor": 5
}
